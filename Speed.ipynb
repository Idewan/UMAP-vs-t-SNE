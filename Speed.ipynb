{
 "cells": [
  {
   "cell_type": "code",
   "execution_count": null,
   "metadata": {},
   "outputs": [],
   "source": [
    "import numpy as np\n",
    "import pandas as pd\n",
    "import seaborn as sns\n",
    "import matplotlib.pyplot as plt\n",
    "import tensorflow as tf\n",
    "\n",
    "from sklearn.datasets import load_digits\n",
    "from sklearn.datasets import fetch_openml\n",
    "\n",
    "from sklearn.decomposition import PCA\n",
    "from sklearn.utils import resample\n",
    "from tensorflow.keras.datasets.fashion_mnist import load_data\n",
    "from umap import UMAP\n",
    "\n",
    "#Import all the algorithms\n",
    "from umap import UMAP\n",
    "from openTSNE import TSNE as OpenTSNE\n",
    "from tqdm import tqdm\n",
    "\n",
    "import time\n",
    "%matplotlib inline"
   ]
  },
  {
   "cell_type": "code",
   "execution_count": null,
   "metadata": {},
   "outputs": [],
   "source": [
    "def data_size_scaling(algorithm, algorithm_name, data, sizes=[100, 1000, 2500, 10000, 25000, 70000, 100000], n_runs=5):\n",
    "    result = []\n",
    "    for k in tqdm(range(len(sizes))):\n",
    "        size = sizes[k]\n",
    "        for run in range(n_runs):\n",
    "            subsample = resample(data, n_samples=size)\n",
    "            start_time = time.time()\n",
    "            if 'UMAP' in algorithm_name:\n",
    "                algorithm.fit_transform(subsample)\n",
    "            else:\n",
    "                algorithm.fit(subsample)\n",
    "            elapsed_time = time.time() - start_time\n",
    "            del subsample\n",
    "            result.append((size, elapsed_time))\n",
    "    return pd.DataFrame(result, columns=('dataset size', 'runtime (s)'))"
   ]
  },
  {
   "cell_type": "code",
   "execution_count": null,
   "metadata": {},
   "outputs": [],
   "source": [
    "digits = fetch_openml('mnist_784')\n",
    "X_d = digits.data\n",
    "fashion = fetch_openml('Fashion-MNIST', version=1)\n",
    "X_f = fashion.data"
   ]
  },
  {
   "cell_type": "code",
   "execution_count": null,
   "metadata": {},
   "outputs": [],
   "source": [
    "x_mean_rem_d = X_d - X_d.mean(axis=0)\n",
    "U, lambd, V = np.linalg.svd(x_mean_rem_d, full_matrices=False)\n",
    "X784_d = np.dot(U, np.diag(lambd))[:,:784]\n",
    "x_mean_rem_f = X_f - X_f.mean(axis=0)\n",
    "U, lambd, V = np.linalg.svd(x_mean_rem_f, full_matrices=False)\n",
    "X784_f = np.dot(U, np.diag(lambd))[:,:784]"
   ]
  },
  {
   "cell_type": "code",
   "execution_count": null,
   "metadata": {},
   "outputs": [],
   "source": [
    "methods = [UMAP(init='random',random_state=42),\n",
    "             UMAP(random_state=42),\n",
    "             OpenTSNE(n_jobs=-1, initialization='random', random_state=42,negative_gradient_method='fft'),\n",
    "             OpenTSNE(n_jobs=-1, negative_gradient_method='fft',random_state=42),\n",
    "             OpenTSNE(n_jobs=-1, initialization='random', negative_gradient_method='bh',random_state=42),\n",
    "             OpenTSNE(n_jobs=-1, negative_gradient_method='bh',random_state=42)]"
   ]
  },
  {
   "cell_type": "code",
   "execution_count": null,
   "metadata": {},
   "outputs": [],
   "source": [
    "performance_data_d = {}\n",
    "performance_data_f = {}\n",
    "\n",
    "for i in range(len(methods_n)):\n",
    "    algo = methods_n[i]\n",
    "    if i == 0:\n",
    "        alg_name = 'UMAP_random_init'\n",
    "    elif i == 1:\n",
    "        alg_name = 'UMAP_le_init'\n",
    "    elif i == 2:\n",
    "        alg_name = 'OpenTSNE_random_init_fft'\n",
    "    elif i == 3:\n",
    "        alg_name = 'OpenTSNE_pca_init_fft'\n",
    "    elif i == 4:\n",
    "        alg_name = 'OpenTSNE_random_init_bh'\n",
    "    else:\n",
    "        alg_name = 'OpenTSNE_pca_init_bh'\n",
    "    performance_data_d[alg_name] = data_size_scaling(algo, alg_name, X784_d)\n",
    "    performance_data_f[alg_name] = data_size_scaling(algo, alg_name, X784_f)\n",
    "\n",
    "    print(f\"[{time.asctime(time.localtime())}] Completed {alg_name}\")"
   ]
  },
  {
   "cell_type": "code",
   "execution_count": null,
   "metadata": {},
   "outputs": [],
   "source": [
    "for alg_name, perf_data in performance_data_d.items():\n",
    "    algo = methods[i]\n",
    "    sns.regplot('dataset size', 'runtime (s)', perf_data, order=2, label=alg_name)\n",
    "plt.legend()\n",
    "plt.xlim(0, 110000)"
   ]
  },
  {
   "cell_type": "code",
   "execution_count": null,
   "metadata": {},
   "outputs": [],
   "source": [
    "for alg_name, perf_data in performance_data_f.items():\n",
    "    algo = methods[i]\n",
    "    sns.regplot('dataset size', 'runtime (s)', perf_data, order=2, label=alg_name)\n",
    "plt.legend()\n",
    "plt.xlim(0, 110000)"
   ]
  }
 ],
 "metadata": {
  "kernelspec": {
   "display_name": "Python 3",
   "language": "python",
   "name": "python3"
  },
  "language_info": {
   "codemirror_mode": {
    "name": "ipython",
    "version": 3
   },
   "file_extension": ".py",
   "mimetype": "text/x-python",
   "name": "python",
   "nbconvert_exporter": "python",
   "pygments_lexer": "ipython3",
   "version": "3.7.9"
  }
 },
 "nbformat": 4,
 "nbformat_minor": 4
}
